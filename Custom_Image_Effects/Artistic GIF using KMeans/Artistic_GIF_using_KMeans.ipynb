{
 "metadata": {
  "language_info": {
   "codemirror_mode": {
    "name": "ipython",
    "version": 3
   },
   "file_extension": ".py",
   "mimetype": "text/x-python",
   "name": "python",
   "nbconvert_exporter": "python",
   "pygments_lexer": "ipython3",
   "version": "3.8.7"
  },
  "orig_nbformat": 4,
  "kernelspec": {
   "name": "python3",
   "display_name": "Python 3.8.7 64-bit"
  },
  "interpreter": {
   "hash": "dcbe076a40d8142e585077643c26fc4a9c0eed423ce3f041c8a5b2e5c8137bb1"
  }
 },
 "nbformat": 4,
 "nbformat_minor": 2,
 "cells": [
  {
   "source": [
    "# Artistic GIF creation using KMeans Clustering\n",
    "By Mayur Kr. Garg"
   ],
   "cell_type": "markdown",
   "metadata": {}
  },
  {
   "source": [
    "## Configuration Parameters\n",
    "- **N_CLUSTERS**: Number of clusters generated using KMeans\n",
    "    - Each cluster will contribute a frame in the final GIF.\n",
    "    - More clusters will lead to an image which looks much more closer to the original image but also a GIF larger in size.\n",
    "    - Use lower values such as from 8 to 15 for less colorful images such as that of a blue sky or oceans and higher values such as from 16 to 24 for images of parties or fireworks.\n",
    "\n",
    "- **DURATION_PER_FRAME**: Duration in milliseconds per frame in final GIF.\n",
    "\n",
    "- **FINAL_FRAME_REPEAT**: Repeats the final frame with all clusters this many times. \n",
    "    - Set it to 0 to to have only one frame for the final image.\n",
    "\n",
    "- **BOOMERANG**: Boolean value indicating whether the GIF should also go back to the initial frame once all clusters have been populated.\n",
    "    - Setting this to True will add *N_CLUSTERS - 1* frames to the final GIF (one frame for each cluster except for the last) and consecutively increase the size of the GIF.\n",
    "\n",
    "- **RESIZE_FACTOR**: A float value indicating the ratio to resize the image along its width and height.\n",
    "    - Set it this to a value in the range (0, 1] for large images to get good GIFs with a reasonable size.\n",
    "    \n",
    "- **LOOP**: Integer value indicating how many times the GIF should loop.\n",
    "    - Set this to 0 to make the GIF loop indefinitely.\n",
    "    - This may or may not work based on where you are viewing the generated GIF as some media tools and sites loop the GIF irrespective of the value set.\n",
    "\n",
    "- **IMAGE_PATH**: Relative (preferred) or absolute path of the image file.\n",
    "\n",
    "- **OUTPUT_IMAGE_PATH**: Relative (preferred) or absolute path where to save the final image.\n",
    "\n",
    "- **OUTPUT_GIF_PATH**: Relative (preferred) or absolute path where to save the final GIF.\n",
    "\n",
    "- **RANDOM_STATE**: Random state variable used in KMeans.\n",
    "    - Set this to any fixed positive integer to get repeatable results.\n",
    "    - Varying this parameter allows you to get slightly different results for the same image and same value of other parameters."
   ],
   "cell_type": "markdown",
   "metadata": {}
  },
  {
   "cell_type": "code",
   "execution_count": 1,
   "metadata": {},
   "outputs": [],
   "source": [
    "N_CLUSTERS = 15\n",
    "DURATION_PER_FRAME = 100\n",
    "\n",
    "FINAL_FRAME_REPEAT = 5\n",
    "BOOMERANG = True\n",
    "RESIZE_FACTOR = 0.5\n",
    "LOOP_COUNT = 0\n",
    "\n",
    "IMAGE_PATH = '../../Test_Images/Img_09.jpg'\n",
    "OUTPUT_IMAGE_PATH = 'Results/Images/Img_09.jpg'\n",
    "OUTPUT_GIF_PATH = 'Results/GIFs/Img_09.gif'\n",
    "\n",
    "RANDOM_STATE = 7"
   ]
  },
  {
   "source": [
    "#### The algorithm generates one initial blank frame and then one frame for each cluster. After that the final frame is repeated for *FINAL_FRAME_REPEAT* frames. If *BOOMERANG* is enabled, one frame is added in reverse for each cluster except for the last."
   ],
   "cell_type": "markdown",
   "metadata": {}
  },
  {
   "cell_type": "code",
   "execution_count": 2,
   "metadata": {},
   "outputs": [
    {
     "output_type": "stream",
     "name": "stdout",
     "text": [
      "Total number of frames in the GIF: 35\nTotal duration of the GIF: 3.5s\n"
     ]
    }
   ],
   "source": [
    "total_frames = 1 + N_CLUSTERS + FINAL_FRAME_REPEAT + (BOOMERANG * (N_CLUSTERS - 1))\n",
    "total_duration = (total_frames * DURATION_PER_FRAME)/1000\n",
    "print(f\"Total number of frames in the GIF: {total_frames}\")\n",
    "print(f\"Total duration of the GIF: {total_duration}s\")"
   ]
  },
  {
   "source": [
    "## Imports"
   ],
   "cell_type": "markdown",
   "metadata": {}
  },
  {
   "cell_type": "code",
   "execution_count": 3,
   "metadata": {},
   "outputs": [],
   "source": [
    "import numpy as np\n",
    "import pandas as pd\n",
    "from matplotlib import pyplot as plt\n",
    "from sklearn.cluster import KMeans\n",
    "from PIL import Image\n",
    "import IPython.display as display"
   ]
  },
  {
   "source": [
    "## Data Loading"
   ],
   "cell_type": "markdown",
   "metadata": {}
  },
  {
   "source": [
    "### Original Image"
   ],
   "cell_type": "markdown",
   "metadata": {}
  },
  {
   "cell_type": "code",
   "execution_count": 4,
   "metadata": {},
   "outputs": [
    {
     "output_type": "execute_result",
     "data": {
      "text/html": "<img src=\"../../Test_Images/Img_09.jpg\" height=\"500\"/>",
      "text/plain": [
       "<IPython.core.display.Image object>"
      ]
     },
     "metadata": {},
     "execution_count": 4
    }
   ],
   "source": [
    "display.Image(url = IMAGE_PATH, height = 500)"
   ]
  },
  {
   "source": [
    "### Opening, resizing the image and then reading it into a numpy array"
   ],
   "cell_type": "markdown",
   "metadata": {}
  },
  {
   "cell_type": "code",
   "execution_count": 5,
   "metadata": {},
   "outputs": [
    {
     "output_type": "execute_result",
     "data": {
      "text/plain": [
       "(540, 960, 3)"
      ]
     },
     "metadata": {},
     "execution_count": 5
    }
   ],
   "source": [
    "image = Image.open(IMAGE_PATH)\n",
    "image = np.asarray(image.resize([int(RESIZE_FACTOR * s) for s in image.size]))\n",
    "image.shape"
   ]
  },
  {
   "source": [
    "### Storing the image data in a DataFrame to create a 3 dimensional dataset"
   ],
   "cell_type": "markdown",
   "metadata": {}
  },
  {
   "cell_type": "code",
   "execution_count": 6,
   "metadata": {},
   "outputs": [
    {
     "output_type": "execute_result",
     "data": {
      "text/plain": [
       "    r   g   b\n",
       "0  46  42  43\n",
       "1  38  34  35\n",
       "2  39  35  34\n",
       "3  39  35  32\n",
       "4  40  35  31"
      ],
      "text/html": "<div>\n<style scoped>\n    .dataframe tbody tr th:only-of-type {\n        vertical-align: middle;\n    }\n\n    .dataframe tbody tr th {\n        vertical-align: top;\n    }\n\n    .dataframe thead th {\n        text-align: right;\n    }\n</style>\n<table border=\"1\" class=\"dataframe\">\n  <thead>\n    <tr style=\"text-align: right;\">\n      <th></th>\n      <th>r</th>\n      <th>g</th>\n      <th>b</th>\n    </tr>\n  </thead>\n  <tbody>\n    <tr>\n      <th>0</th>\n      <td>46</td>\n      <td>42</td>\n      <td>43</td>\n    </tr>\n    <tr>\n      <th>1</th>\n      <td>38</td>\n      <td>34</td>\n      <td>35</td>\n    </tr>\n    <tr>\n      <th>2</th>\n      <td>39</td>\n      <td>35</td>\n      <td>34</td>\n    </tr>\n    <tr>\n      <th>3</th>\n      <td>39</td>\n      <td>35</td>\n      <td>32</td>\n    </tr>\n    <tr>\n      <th>4</th>\n      <td>40</td>\n      <td>35</td>\n      <td>31</td>\n    </tr>\n  </tbody>\n</table>\n</div>"
     },
     "metadata": {},
     "execution_count": 6
    }
   ],
   "source": [
    "df = pd.DataFrame()\n",
    "df['r'] = pd.Series(image[:,:,0].flatten())\n",
    "df['g'] = pd.Series(image[:,:,1].flatten())\n",
    "df['b'] = pd.Series(image[:,:,2].flatten())\n",
    "df.head()"
   ]
  },
  {
   "source": [
    "## KMeans clustering"
   ],
   "cell_type": "markdown",
   "metadata": {}
  },
  {
   "source": [
    "### Fitting the data and storing the clusters in an array"
   ],
   "cell_type": "markdown",
   "metadata": {}
  },
  {
   "cell_type": "code",
   "execution_count": 7,
   "metadata": {},
   "outputs": [
    {
     "output_type": "stream",
     "name": "stdout",
     "text": [
      "Wall time: 21.2 s\n"
     ]
    },
    {
     "output_type": "execute_result",
     "data": {
      "text/plain": [
       "array([[ 97,  96,  29],\n",
       "       [179, 179, 191],\n",
       "       [ 56,  67,  19],\n",
       "       [231, 113,  56],\n",
       "       [ 81,  99, 124],\n",
       "       [239, 208,  64],\n",
       "       [119, 146, 173],\n",
       "       [168, 128, 128],\n",
       "       [185,  25,  17],\n",
       "       [229, 220, 204],\n",
       "       [ 27,  38,  15],\n",
       "       [187,  68,  57],\n",
       "       [120,  43,  47],\n",
       "       [ 52,  61,  82],\n",
       "       [155, 136,  42]], dtype=uint8)"
      ]
     },
     "metadata": {},
     "execution_count": 7
    }
   ],
   "source": [
    "%%time\n",
    "\n",
    "km = KMeans(n_clusters = N_CLUSTERS, random_state = RANDOM_STATE)\n",
    "km.fit(df)\n",
    "colors = km.cluster_centers_.astype('uint8')\n",
    "colors"
   ]
  },
  {
   "source": [
    "### Visualising the cluster centers as colors"
   ],
   "cell_type": "markdown",
   "metadata": {}
  },
  {
   "cell_type": "code",
   "execution_count": 8,
   "metadata": {},
   "outputs": [
    {
     "output_type": "display_data",
     "data": {
      "text/plain": "<Figure size 1080x72 with 1 Axes>",
      "image/svg+xml": "<?xml version=\"1.0\" encoding=\"utf-8\" standalone=\"no\"?>\r\n<!DOCTYPE svg PUBLIC \"-//W3C//DTD SVG 1.1//EN\"\r\n  \"http://www.w3.org/Graphics/SVG/1.1/DTD/svg11.dtd\">\r\n<!-- Created with matplotlib (https://matplotlib.org/) -->\r\n<svg height=\"68.76pt\" version=\"1.1\" viewBox=\"0 0 829.8 68.76\" width=\"829.8pt\" xmlns=\"http://www.w3.org/2000/svg\" xmlns:xlink=\"http://www.w3.org/1999/xlink\">\r\n <metadata>\r\n  <rdf:RDF xmlns:cc=\"http://creativecommons.org/ns#\" xmlns:dc=\"http://purl.org/dc/elements/1.1/\" xmlns:rdf=\"http://www.w3.org/1999/02/22-rdf-syntax-ns#\">\r\n   <cc:Work>\r\n    <dc:type rdf:resource=\"http://purl.org/dc/dcmitype/StillImage\"/>\r\n    <dc:date>2021-06-20T17:11:47.575945</dc:date>\r\n    <dc:format>image/svg+xml</dc:format>\r\n    <dc:creator>\r\n     <cc:Agent>\r\n      <dc:title>Matplotlib v3.3.4, https://matplotlib.org/</dc:title>\r\n     </cc:Agent>\r\n    </dc:creator>\r\n   </cc:Work>\r\n  </rdf:RDF>\r\n </metadata>\r\n <defs>\r\n  <style type=\"text/css\">*{stroke-linecap:butt;stroke-linejoin:round;}</style>\r\n </defs>\r\n <g id=\"figure_1\">\r\n  <g id=\"patch_1\">\r\n   <path d=\"M 0 68.76 \r\nL 829.8 68.76 \r\nL 829.8 0 \r\nL 0 0 \r\nz\r\n\" style=\"fill:none;\"/>\r\n  </g>\r\n  <g id=\"axes_1\">\r\n   <g clip-path=\"url(#p63a877a14b)\">\r\n    <image height=\"55\" id=\"image41951e09b3\" transform=\"scale(1 -1)translate(0 -55)\" width=\"816\" x=\"7.2\" xlink:href=\"data:image/png;base64,\r\niVBORw0KGgoAAAANSUhEUgAAAzAAAAA3CAYAAADT5a8+AAABxklEQVR4nO3XsS0mYACAYWxA7xrRiFyiscCp6DAAlUTyj3HJlae8RsQCBkCDDTQ20CkUWlbQfPnyXp5ngrd9l09P1j+X/kOHR9ezE4b5/fd4dsIQNz83ZycMc/6+NzthiMvF0+yEIf48LGYnDLPz9jw7YYjVfxezE4bZfrydnTDE7v6v2QlDXP3Ymp0wzP3rx+yEIe7WNmYnDHN28DI7YYiV2QEAAADfZWAAAIAMAwMAAGQYGAAAIMPAAAAAGQYGAADIMDAAAECGgQEAADIMDAAAkGFgAACADAMDAABkGBgAACDDwAAAABkGBgAAyDAwAABAhoEBAAAyDAwAAJBhYAAAgAwDAwAAZBgYAAAgw8AAAAAZBgYAAMgwMAAAQIaBAQAAMgwMAACQYWAAAIAMAwMAAGQYGAAAIMPAAAAAGQYGAADIMDAAAECGgQEAADIMDAAAkGFgAACADAMDAABkGBgAACDDwAAAABkGBgAAyDAwAABAhoEBAAAyDAwAAJBhYAAAgAwDAwAAZBgYAAAgw8AAAAAZBgYAAMgwMAAAQIaBAQAAMgwMAACQYWAAAIAMAwMAAGQYGAAAIMPAAAAAGQYGAADI+AJsSRa6VJggJwAAAABJRU5ErkJggg==\" y=\"-6.56\"/>\r\n   </g>\r\n  </g>\r\n </g>\r\n <defs>\r\n  <clipPath id=\"p63a877a14b\">\r\n   <rect height=\"54.36\" width=\"815.4\" x=\"7.2\" y=\"7.2\"/>\r\n  </clipPath>\r\n </defs>\r\n</svg>\r\n",
      "image/png": "[encoded data removed]"
     },
     "metadata": {
      "needs_background": "light"
     }
    }
   ],
   "source": [
    "plt.figure(figsize = (N_CLUSTERS, 1))\n",
    "plt.axis(False)\n",
    "plt.grid(False)\n",
    "plt.imshow([colors]);"
   ]
  },
  {
   "source": [
    "## GIF Creation"
   ],
   "cell_type": "markdown",
   "metadata": {}
  },
  {
   "source": [
    "### Predicting the cluster centers on the same dataset"
   ],
   "cell_type": "markdown",
   "metadata": {}
  },
  {
   "cell_type": "code",
   "execution_count": 9,
   "metadata": {},
   "outputs": [
    {
     "output_type": "execute_result",
     "data": {
      "text/plain": [
       "array([10, 10, 10, ..., 10, 10, 10])"
      ]
     },
     "metadata": {},
     "execution_count": 9
    }
   ],
   "source": [
    "pred = km.predict(df)\n",
    "pred"
   ]
  },
  {
   "source": [
    "### Calculating the count of data points per cluster"
   ],
   "cell_type": "markdown",
   "metadata": {}
  },
  {
   "cell_type": "code",
   "execution_count": 10,
   "metadata": {},
   "outputs": [
    {
     "output_type": "execute_result",
     "data": {
      "text/plain": [
       "array([39335, 37488, 69445, 23809, 30858, 24233, 36141, 23580, 12364,\n",
       "       16595, 91107, 30500, 28637, 32863, 21445], dtype=int64)"
      ]
     },
     "metadata": {},
     "execution_count": 10
    }
   ],
   "source": [
    "_, cluster_counts = np.unique(pred, return_counts = True)\n",
    "cluster_counts"
   ]
  },
  {
   "source": [
    "### Reordering the clusters by the count of data points in that cluster"
   ],
   "cell_type": "markdown",
   "metadata": {}
  },
  {
   "cell_type": "code",
   "execution_count": 11,
   "metadata": {},
   "outputs": [
    {
     "output_type": "execute_result",
     "data": {
      "text/plain": [
       "(array([ 8,  9, 14,  7,  3,  5, 12, 11,  4, 13,  6,  1,  0,  2, 10],\n",
       "       dtype=int64),\n",
       " array([12364, 16595, 21445, 23580, 23809, 24233, 28637, 30500, 30858,\n",
       "        32863, 36141, 37488, 39335, 69445, 91107], dtype=int64))"
      ]
     },
     "metadata": {},
     "execution_count": 11
    }
   ],
   "source": [
    "cluster_ids = cluster_counts.argsort()\n",
    "cluster_counts.sort()\n",
    "cluster_ids, cluster_counts"
   ]
  },
  {
   "source": [
    "### Visualizing the descending order of the sorted clusters. Colors will be populated in this order in the final GIF"
   ],
   "cell_type": "markdown",
   "metadata": {}
  },
  {
   "cell_type": "code",
   "execution_count": 12,
   "metadata": {},
   "outputs": [
    {
     "output_type": "display_data",
     "data": {
      "text/plain": "<Figure size 1080x72 with 1 Axes>",
      "image/svg+xml": "<?xml version=\"1.0\" encoding=\"utf-8\" standalone=\"no\"?>\r\n<!DOCTYPE svg PUBLIC \"-//W3C//DTD SVG 1.1//EN\"\r\n  \"http://www.w3.org/Graphics/SVG/1.1/DTD/svg11.dtd\">\r\n<!-- Created with matplotlib (https://matplotlib.org/) -->\r\n<svg height=\"68.76pt\" version=\"1.1\" viewBox=\"0 0 829.8 68.76\" width=\"829.8pt\" xmlns=\"http://www.w3.org/2000/svg\" xmlns:xlink=\"http://www.w3.org/1999/xlink\">\r\n <metadata>\r\n  <rdf:RDF xmlns:cc=\"http://creativecommons.org/ns#\" xmlns:dc=\"http://purl.org/dc/elements/1.1/\" xmlns:rdf=\"http://www.w3.org/1999/02/22-rdf-syntax-ns#\">\r\n   <cc:Work>\r\n    <dc:type rdf:resource=\"http://purl.org/dc/dcmitype/StillImage\"/>\r\n    <dc:date>2021-06-20T17:11:47.800477</dc:date>\r\n    <dc:format>image/svg+xml</dc:format>\r\n    <dc:creator>\r\n     <cc:Agent>\r\n      <dc:title>Matplotlib v3.3.4, https://matplotlib.org/</dc:title>\r\n     </cc:Agent>\r\n    </dc:creator>\r\n   </cc:Work>\r\n  </rdf:RDF>\r\n </metadata>\r\n <defs>\r\n  <style type=\"text/css\">*{stroke-linecap:butt;stroke-linejoin:round;}</style>\r\n </defs>\r\n <g id=\"figure_1\">\r\n  <g id=\"patch_1\">\r\n   <path d=\"M 0 68.76 \r\nL 829.8 68.76 \r\nL 829.8 0 \r\nL 0 0 \r\nz\r\n\" style=\"fill:none;\"/>\r\n  </g>\r\n  <g id=\"axes_1\">\r\n   <g clip-path=\"url(#p13ef176646)\">\r\n    <image height=\"55\" id=\"imaged91e3b308e\" transform=\"scale(1 -1)translate(0 -55)\" width=\"816\" x=\"7.2\" xlink:href=\"data:image/png;base64,\r\niVBORw0KGgoAAAANSUhEUgAAAzAAAAA3CAYAAADT5a8+AAABv0lEQVR4nO3XMS4EUABFUUQhGlHLtJOwB6VElFiFDVgPyTSsYQqJJehFpdNIZDq2oPn5uZNzVvDKd3dPlke/O1tosdifPWGY08Xh7AlDXN88zp4wzOv71+wJQ6yfV7MnDLFYns2eMMzdx3r2hCHWnz+zJwxzvzqePWGIzcNm9oQhXo4uZ08Y5vvgafaEIa5ut/d/vJ1fzJ4wxN7sAQAAAP8lYAAAgAwBAwAAZAgYAAAgQ8AAAAAZAgYAAMgQMAAAQIaAAQAAMgQMAACQIWAAAIAMAQMAAGQIGAAAIEPAAAAAGQIGAADIEDAAAECGgAEAADIEDAAAkCFgAACADAEDAABkCBgAACBDwAAAABkCBgAAyBAwAABAhoABAAAyBAwAAJAhYAAAgAwBAwAAZAgYAAAgQ8AAAAAZAgYAAMgQMAAAQIaAAQAAMgQMAACQIWAAAIAMAQMAAGQIGAAAIEPAAAAAGQIGAADIEDAAAECGgAEAADIEDAAAkCFgAACADAEDAABkCBgAACBDwAAAABkCBgAAyBAwAABAhoABAAAyBAwAAJAhYAAAgAwBAwAAZAgYAAAgQ8AAAAAZAgYAAMj4A+NvFlCRvlMOAAAAAElFTkSuQmCC\" y=\"-6.56\"/>\r\n   </g>\r\n  </g>\r\n </g>\r\n <defs>\r\n  <clipPath id=\"p13ef176646\">\r\n   <rect height=\"54.36\" width=\"815.4\" x=\"7.2\" y=\"7.2\"/>\r\n  </clipPath>\r\n </defs>\r\n</svg>\r\n",
      "image/png": "[encoded data removed]"
     },
     "metadata": {
      "needs_background": "light"
     }
    }
   ],
   "source": [
    "plt.figure(figsize = (N_CLUSTERS, 1))\n",
    "plt.axis(False)\n",
    "plt.grid(False)\n",
    "plt.imshow([colors[cluster_ids[::-1]]]);"
   ]
  },
  {
   "source": [
    "### Reshaping the predictions array to the shape of the image"
   ],
   "cell_type": "markdown",
   "metadata": {}
  },
  {
   "cell_type": "code",
   "execution_count": 13,
   "metadata": {},
   "outputs": [
    {
     "output_type": "execute_result",
     "data": {
      "text/plain": [
       "array([[10, 10, 10, ..., 13, 13, 13],\n",
       "       [10, 10, 10, ..., 13, 13, 13],\n",
       "       [10, 10, 10, ..., 13, 13, 13],\n",
       "       ...,\n",
       "       [10, 10, 10, ..., 10, 10, 10],\n",
       "       [10, 10, 10, ..., 10, 10, 10],\n",
       "       [10, 10, 10, ..., 10, 10, 10]])"
      ]
     },
     "metadata": {},
     "execution_count": 13
    }
   ],
   "source": [
    "reshaped_pred = pred.reshape(image.shape[:2])\n",
    "reshaped_pred"
   ]
  },
  {
   "source": [
    "### Creating an image for each cluster starting from a blank image. Every image, the data is copied from the last image and the next color is populated. The final image is saved at the specified *OUTPUT_IMAGE_PATH*."
   ],
   "cell_type": "markdown",
   "metadata": {}
  },
  {
   "cell_type": "code",
   "execution_count": 14,
   "metadata": {},
   "outputs": [
    {
     "output_type": "execute_result",
     "data": {
      "text/html": "<img src=\"Results/Images/Img_09.jpg\" height=\"500\"/>",
      "text/plain": [
       "<IPython.core.display.Image object>"
      ]
     },
     "metadata": {},
     "execution_count": 14
    }
   ],
   "source": [
    "all_imgs = np.zeros((N_CLUSTERS + 1, *image.shape), dtype='uint8')\n",
    "new_img = np.zeros(image.shape, dtype='uint8')\n",
    "new_img[:] = 255\n",
    "all_imgs[0] = new_img\n",
    "\n",
    "for i in range(N_CLUSTERS):\n",
    "    new_img = new_img.copy()\n",
    "    new_img[np.where(reshaped_pred == cluster_ids[-(i + 1)])] = colors[cluster_ids[-(i + 1)]]\n",
    "    all_imgs[i + 1] = new_img\n",
    "\n",
    "Image.fromarray(all_imgs[N_CLUSTERS], 'RGB').save(OUTPUT_IMAGE_PATH)\n",
    "display.Image(url = OUTPUT_IMAGE_PATH, height = 500)"
   ]
  },
  {
   "source": [
    "### For each image created, instantiate an PIL Image object. If the *FINAL_FRAME_REPEAT* is specified, repeat the final object that many times. If *BOOMERANG* is set to True, add the images in reverse order for each cluster except for the last."
   ],
   "cell_type": "markdown",
   "metadata": {}
  },
  {
   "cell_type": "code",
   "execution_count": 15,
   "metadata": {},
   "outputs": [],
   "source": [
    "imgs = []\n",
    "for i in range(N_CLUSTERS + 1):\n",
    "    img = Image.fromarray(all_imgs[i], 'RGB')\n",
    "    imgs.append(img)\n",
    "\n",
    "for i in range(FINAL_FRAME_REPEAT):\n",
    "    imgs.append(imgs[N_CLUSTERS])\n",
    "\n",
    "if BOOMERANG:\n",
    "    for i in range(N_CLUSTERS - 1, 0, -1):\n",
    "        imgs.append(imgs[i])"
   ]
  },
  {
   "source": [
    "### Save and visualize the final GIF using the parameters specified."
   ],
   "cell_type": "markdown",
   "metadata": {}
  },
  {
   "cell_type": "code",
   "execution_count": 16,
   "metadata": {},
   "outputs": [],
   "source": [
    "imgs[0].save(\n",
    "    OUTPUT_GIF_PATH, \n",
    "    save_all = True, \n",
    "    append_images = imgs[1:], \n",
    "    optimize = False, \n",
    "    duration = DURATION_PER_FRAME, \n",
    "    loop = LOOP_COUNT\n",
    ")"
   ]
  },
  {
   "cell_type": "code",
   "execution_count": 17,
   "metadata": {},
   "outputs": [
    {
     "output_type": "execute_result",
     "data": {
      "text/html": "<img src=\"Results/GIFs/Img_09.gif\" height=\"500\"/>",
      "text/plain": [
       "<IPython.core.display.Image object>"
      ]
     },
     "metadata": {},
     "execution_count": 17
    }
   ],
   "source": [
    "display.Image(url = OUTPUT_GIF_PATH, height = 500)"
   ]
  }
 ]
}