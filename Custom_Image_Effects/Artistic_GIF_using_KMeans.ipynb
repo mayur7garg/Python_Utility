{
 "metadata": {
  "language_info": {
   "codemirror_mode": {
    "name": "ipython",
    "version": 3
   },
   "file_extension": ".py",
   "mimetype": "text/x-python",
   "name": "python",
   "nbconvert_exporter": "python",
   "pygments_lexer": "ipython3",
   "version": "3.8.7"
  },
  "orig_nbformat": 4,
  "kernelspec": {
   "name": "python3",
   "display_name": "Python 3.8.7 64-bit"
  },
  "interpreter": {
   "hash": "dcbe076a40d8142e585077643c26fc4a9c0eed423ce3f041c8a5b2e5c8137bb1"
  }
 },
 "nbformat": 4,
 "nbformat_minor": 2,
 "cells": [
  {
   "cell_type": "code",
   "execution_count": 1,
   "metadata": {},
   "outputs": [],
   "source": [
    "RANDOM_STATE = 7\n",
    "N_CLUSTERS = 15\n",
    "FINAL_FRAME_REPEAT = 5\n",
    "DURATION_PER_FRAME = 100\n",
    "LOOP_COUNT = 0\n",
    "BOOMERANG = True\n",
    "IMAGE_PATH = '../Image_Manipulation/Test_Images/Img_09.jpg'\n",
    "OUTPUT_IMAGE_PATH = 'Img_09.jpg'\n",
    "OUTPUT_GIF_PATH = 'Img_09.gif'"
   ]
  },
  {
   "cell_type": "code",
   "execution_count": 2,
   "metadata": {},
   "outputs": [],
   "source": [
    "import numpy as np\n",
    "import pandas as pd\n",
    "from matplotlib import pyplot as plt\n",
    "from sklearn.cluster import KMeans\n",
    "from PIL import Image\n",
    "import IPython.display as display"
   ]
  },
  {
   "cell_type": "code",
   "execution_count": 3,
   "metadata": {},
   "outputs": [
    {
     "output_type": "execute_result",
     "data": {
      "text/html": "<img src=\"../Image_Manipulation/Test_Images/Img_09.jpg\" height=\"500\"/>",
      "text/plain": [
       "<IPython.core.display.Image object>"
      ]
     },
     "metadata": {},
     "execution_count": 3
    }
   ],
   "source": [
    "display.Image(url = IMAGE_PATH, height = 500)"
   ]
  },
  {
   "cell_type": "code",
   "execution_count": 4,
   "metadata": {},
   "outputs": [
    {
     "output_type": "execute_result",
     "data": {
      "text/plain": [
       "(1080, 1920, 3)"
      ]
     },
     "metadata": {},
     "execution_count": 4
    }
   ],
   "source": [
    "image = np.asarray(Image.open(IMAGE_PATH))\n",
    "image.shape"
   ]
  },
  {
   "cell_type": "code",
   "execution_count": 5,
   "metadata": {},
   "outputs": [
    {
     "output_type": "execute_result",
     "data": {
      "text/plain": [
       "    r   g   b\n",
       "0  53  49  50\n",
       "1  40  36  37\n",
       "2  38  34  35\n",
       "3  39  35  36\n",
       "4  39  35  34"
      ],
      "text/html": "<div>\n<style scoped>\n    .dataframe tbody tr th:only-of-type {\n        vertical-align: middle;\n    }\n\n    .dataframe tbody tr th {\n        vertical-align: top;\n    }\n\n    .dataframe thead th {\n        text-align: right;\n    }\n</style>\n<table border=\"1\" class=\"dataframe\">\n  <thead>\n    <tr style=\"text-align: right;\">\n      <th></th>\n      <th>r</th>\n      <th>g</th>\n      <th>b</th>\n    </tr>\n  </thead>\n  <tbody>\n    <tr>\n      <th>0</th>\n      <td>53</td>\n      <td>49</td>\n      <td>50</td>\n    </tr>\n    <tr>\n      <th>1</th>\n      <td>40</td>\n      <td>36</td>\n      <td>37</td>\n    </tr>\n    <tr>\n      <th>2</th>\n      <td>38</td>\n      <td>34</td>\n      <td>35</td>\n    </tr>\n    <tr>\n      <th>3</th>\n      <td>39</td>\n      <td>35</td>\n      <td>36</td>\n    </tr>\n    <tr>\n      <th>4</th>\n      <td>39</td>\n      <td>35</td>\n      <td>34</td>\n    </tr>\n  </tbody>\n</table>\n</div>"
     },
     "metadata": {},
     "execution_count": 5
    }
   ],
   "source": [
    "df = pd.DataFrame()\n",
    "df['r'] = pd.Series(image[:,:,0].flatten())\n",
    "df['g'] = pd.Series(image[:,:,1].flatten())\n",
    "df['b'] = pd.Series(image[:,:,2].flatten())\n",
    "df.head()"
   ]
  },
  {
   "cell_type": "code",
   "execution_count": 6,
   "metadata": {},
   "outputs": [
    {
     "output_type": "stream",
     "name": "stdout",
     "text": [
      "Wall time: 1min 17s\n"
     ]
    },
    {
     "output_type": "execute_result",
     "data": {
      "text/plain": [
       "array([[132,  54,  69],\n",
       "       [180, 181, 192],\n",
       "       [ 23,  33,  10],\n",
       "       [231, 119,  61],\n",
       "       [ 77,  97, 122],\n",
       "       [167, 130, 125],\n",
       "       [237, 227, 197],\n",
       "       [ 90,  92,  25],\n",
       "       [127,  24,  11],\n",
       "       [243, 213,  68],\n",
       "       [ 52,  57,  75],\n",
       "       [ 51,  61,  15],\n",
       "       [148, 131,  32],\n",
       "       [198,  61,  47],\n",
       "       [119, 145, 171]], dtype=uint8)"
      ]
     },
     "metadata": {},
     "execution_count": 6
    }
   ],
   "source": [
    "%%time\n",
    "\n",
    "km = KMeans(n_clusters = N_CLUSTERS, random_state = RANDOM_STATE)\n",
    "km.fit(df)\n",
    "colors = km.cluster_centers_.astype('uint8')\n",
    "colors"
   ]
  },
  {
   "cell_type": "code",
   "execution_count": 7,
   "metadata": {},
   "outputs": [
    {
     "output_type": "display_data",
     "data": {
      "text/plain": "<Figure size 1080x72 with 1 Axes>",
      "image/svg+xml": "<?xml version=\"1.0\" encoding=\"utf-8\" standalone=\"no\"?>\r\n<!DOCTYPE svg PUBLIC \"-//W3C//DTD SVG 1.1//EN\"\r\n  \"http://www.w3.org/Graphics/SVG/1.1/DTD/svg11.dtd\">\r\n<!-- Created with matplotlib (https://matplotlib.org/) -->\r\n<svg height=\"68.76pt\" version=\"1.1\" viewBox=\"0 0 829.8 68.76\" width=\"829.8pt\" xmlns=\"http://www.w3.org/2000/svg\" xmlns:xlink=\"http://www.w3.org/1999/xlink\">\r\n <metadata>\r\n  <rdf:RDF xmlns:cc=\"http://creativecommons.org/ns#\" xmlns:dc=\"http://purl.org/dc/elements/1.1/\" xmlns:rdf=\"http://www.w3.org/1999/02/22-rdf-syntax-ns#\">\r\n   <cc:Work>\r\n    <dc:type rdf:resource=\"http://purl.org/dc/dcmitype/StillImage\"/>\r\n    <dc:date>2021-06-19T19:59:46.284466</dc:date>\r\n    <dc:format>image/svg+xml</dc:format>\r\n    <dc:creator>\r\n     <cc:Agent>\r\n      <dc:title>Matplotlib v3.3.4, https://matplotlib.org/</dc:title>\r\n     </cc:Agent>\r\n    </dc:creator>\r\n   </cc:Work>\r\n  </rdf:RDF>\r\n </metadata>\r\n <defs>\r\n  <style type=\"text/css\">*{stroke-linecap:butt;stroke-linejoin:round;}</style>\r\n </defs>\r\n <g id=\"figure_1\">\r\n  <g id=\"patch_1\">\r\n   <path d=\"M 0 68.76 \r\nL 829.8 68.76 \r\nL 829.8 0 \r\nL 0 0 \r\nz\r\n\" style=\"fill:none;\"/>\r\n  </g>\r\n  <g id=\"axes_1\">\r\n   <g clip-path=\"url(#p09216273a0)\">\r\n    <image height=\"55\" id=\"image461d26795b\" transform=\"scale(1 -1)translate(0 -55)\" width=\"816\" x=\"7.2\" xlink:href=\"data:image/png;base64,\r\niVBORw0KGgoAAAANSUhEUgAAAzAAAAA3CAYAAADT5a8+AAABvklEQVR4nO3XPSoAYACAYX9llCMY7KKUwWAgmWWwiUxsFlEWF7KKzQGcw+gCXMHy9fXqeU7wru/i8+7hz8I/tPX0MDthmMubk9kJQ3ye7cxOGOb6a392whDnG8uzE4Y4ujienTDM7f3p7IQhNt++ZycMc/e+NzthiIOr1dkJQ/ysfMxOGObiaH12whDbr2uzE4Z5OX2cnTDE0uwAAACAvzIwAABAhoEBAAAyDAwAAJBhYAAAgAwDAwAAZBgYAAAgw8AAAAAZBgYAAMgwMAAAQIaBAQAAMgwMAACQYWAAAIAMAwMAAGQYGAAAIMPAAAAAGQYGAADIMDAAAECGgQEAADIMDAAAkGFgAACADAMDAABkGBgAACDDwAAAABkGBgAAyDAwAABAhoEBAAAyDAwAAJBhYAAAgAwDAwAAZBgYAAAgw8AAAAAZBgYAAMgwMAAAQIaBAQAAMgwMAACQYWAAAIAMAwMAAGQYGAAAIMPAAAAAGQYGAADIMDAAAECGgQEAADIMDAAAkGFgAACADAMDAABkGBgAACDDwAAAABkGBgAAyDAwAABAhoEBAAAyDAwAAJBhYAAAgAwDAwAAZPwCFiUTIHx0BCIAAAAASUVORK5CYII=\" y=\"-6.56\"/>\r\n   </g>\r\n  </g>\r\n </g>\r\n <defs>\r\n  <clipPath id=\"p09216273a0\">\r\n   <rect height=\"54.36\" width=\"815.4\" x=\"7.2\" y=\"7.2\"/>\r\n  </clipPath>\r\n </defs>\r\n</svg>\r\n",
      "image/png": "[encoded data removed]"
     },
     "metadata": {
      "needs_background": "light"
     }
    }
   ],
   "source": [
    "plt.figure(figsize = (N_CLUSTERS, 1))\n",
    "plt.axis(False)\n",
    "plt.grid(False)\n",
    "plt.imshow([colors]);"
   ]
  },
  {
   "cell_type": "code",
   "execution_count": 8,
   "metadata": {},
   "outputs": [
    {
     "output_type": "execute_result",
     "data": {
      "text/plain": [
       "array([10,  2,  2, ...,  2,  2,  2])"
      ]
     },
     "metadata": {},
     "execution_count": 8
    }
   ],
   "source": [
    "pred = km.predict(df)\n",
    "pred"
   ]
  },
  {
   "cell_type": "code",
   "execution_count": 9,
   "metadata": {},
   "outputs": [
    {
     "output_type": "execute_result",
     "data": {
      "text/plain": [
       "array([ 86972, 156967, 346723,  96987, 128860,  94926,  80033, 155846,\n",
       "        69200,  93740, 134574, 268200,  77957, 130046, 152569],\n",
       "      dtype=int64)"
      ]
     },
     "metadata": {},
     "execution_count": 9
    }
   ],
   "source": [
    "_, cluster_counts = np.unique(pred, return_counts = True)\n",
    "cluster_counts"
   ]
  },
  {
   "cell_type": "code",
   "execution_count": 10,
   "metadata": {},
   "outputs": [
    {
     "output_type": "execute_result",
     "data": {
      "text/plain": [
       "(array([ 8, 12,  6,  0,  9,  5,  3,  4, 13, 10, 14,  7,  1, 11,  2],\n",
       "       dtype=int64),\n",
       " array([ 69200,  77957,  80033,  86972,  93740,  94926,  96987, 128860,\n",
       "        130046, 134574, 152569, 155846, 156967, 268200, 346723],\n",
       "       dtype=int64))"
      ]
     },
     "metadata": {},
     "execution_count": 10
    }
   ],
   "source": [
    "cluster_ids = cluster_counts.argsort()\n",
    "cluster_counts.sort()\n",
    "cluster_ids, cluster_counts"
   ]
  },
  {
   "cell_type": "code",
   "execution_count": 11,
   "metadata": {},
   "outputs": [
    {
     "output_type": "display_data",
     "data": {
      "text/plain": "<Figure size 1080x72 with 1 Axes>",
      "image/svg+xml": "<?xml version=\"1.0\" encoding=\"utf-8\" standalone=\"no\"?>\r\n<!DOCTYPE svg PUBLIC \"-//W3C//DTD SVG 1.1//EN\"\r\n  \"http://www.w3.org/Graphics/SVG/1.1/DTD/svg11.dtd\">\r\n<!-- Created with matplotlib (https://matplotlib.org/) -->\r\n<svg height=\"68.76pt\" version=\"1.1\" viewBox=\"0 0 829.8 68.76\" width=\"829.8pt\" xmlns=\"http://www.w3.org/2000/svg\" xmlns:xlink=\"http://www.w3.org/1999/xlink\">\r\n <metadata>\r\n  <rdf:RDF xmlns:cc=\"http://creativecommons.org/ns#\" xmlns:dc=\"http://purl.org/dc/elements/1.1/\" xmlns:rdf=\"http://www.w3.org/1999/02/22-rdf-syntax-ns#\">\r\n   <cc:Work>\r\n    <dc:type rdf:resource=\"http://purl.org/dc/dcmitype/StillImage\"/>\r\n    <dc:date>2021-06-19T19:59:46.624166</dc:date>\r\n    <dc:format>image/svg+xml</dc:format>\r\n    <dc:creator>\r\n     <cc:Agent>\r\n      <dc:title>Matplotlib v3.3.4, https://matplotlib.org/</dc:title>\r\n     </cc:Agent>\r\n    </dc:creator>\r\n   </cc:Work>\r\n  </rdf:RDF>\r\n </metadata>\r\n <defs>\r\n  <style type=\"text/css\">*{stroke-linecap:butt;stroke-linejoin:round;}</style>\r\n </defs>\r\n <g id=\"figure_1\">\r\n  <g id=\"patch_1\">\r\n   <path d=\"M 0 68.76 \r\nL 829.8 68.76 \r\nL 829.8 0 \r\nL 0 0 \r\nz\r\n\" style=\"fill:none;\"/>\r\n  </g>\r\n  <g id=\"axes_1\">\r\n   <g clip-path=\"url(#p4ff399d166)\">\r\n    <image height=\"55\" id=\"imageb6ff0b6148\" transform=\"scale(1 -1)translate(0 -55)\" width=\"816\" x=\"7.2\" xlink:href=\"data:image/png;base64,\r\niVBORw0KGgoAAAANSUhEUgAAAzAAAAA3CAYAAADT5a8+AAABvklEQVR4nO3XIS4GYACAYb9R6JRfsLmCrtMkk0Q3EEkymyJJKIID2GyCi2gOwRWUb99ee54TvPVdbO9u/Kz8Q8vl+uyEYa4uXmcnDPH4dDI7YZid/dvZCUO8PT/MThjidu1rdsIw13uHsxOGuN/6mJ0wzPvmweyEIY6OP2cnDHFztpidMMz5y+XshCGeHk5nJwzzffc9O2GI1dkBAAAAf2VgAACADAMDAABkGBgAACDDwAAAABkGBgAAyDAwAABAhoEBAAAyDAwAAJBhYAAAgAwDAwAAZBgYAAAgw8AAAAAZBgYAAMgwMAAAQIaBAQAAMgwMAACQYWAAAIAMAwMAAGQYGAAAIMPAAAAAGQYGAADIMDAAAECGgQEAADIMDAAAkGFgAACADAMDAABkGBgAACDDwAAAABkGBgAAyDAwAABAhoEBAAAyDAwAAJBhYAAAgAwDAwAAZBgYAAAgw8AAAAAZBgYAAMgwMAAAQIaBAQAAMgwMAACQYWAAAIAMAwMAAGQYGAAAIMPAAAAAGQYGAADIMDAAAECGgQEAADIMDAAAkGFgAACADAMDAABkGBgAACDDwAAAABkGBgAAyPgFW0oVD3HfcAkAAAAASUVORK5CYII=\" y=\"-6.56\"/>\r\n   </g>\r\n  </g>\r\n </g>\r\n <defs>\r\n  <clipPath id=\"p4ff399d166\">\r\n   <rect height=\"54.36\" width=\"815.4\" x=\"7.2\" y=\"7.2\"/>\r\n  </clipPath>\r\n </defs>\r\n</svg>\r\n",
      "image/png": "[encoded data removed]"
     },
     "metadata": {
      "needs_background": "light"
     }
    }
   ],
   "source": [
    "plt.figure(figsize = (N_CLUSTERS, 1))\n",
    "plt.axis(False)\n",
    "plt.grid(False)\n",
    "plt.imshow([colors[cluster_ids[::-1]]]);"
   ]
  },
  {
   "cell_type": "code",
   "execution_count": 12,
   "metadata": {},
   "outputs": [
    {
     "output_type": "execute_result",
     "data": {
      "text/plain": [
       "array([[10,  2,  2, ..., 10, 10, 10],\n",
       "       [10,  2,  2, ..., 10, 10, 10],\n",
       "       [10,  2,  2, ..., 10, 10, 10],\n",
       "       ...,\n",
       "       [11,  2, 11, ...,  2,  2,  2],\n",
       "       [11,  2,  2, ...,  2,  2,  2],\n",
       "       [ 2, 11, 11, ...,  2,  2,  2]])"
      ]
     },
     "metadata": {},
     "execution_count": 12
    }
   ],
   "source": [
    "reshaped_pred = pred.reshape(image.shape[:2])\n",
    "reshaped_pred"
   ]
  },
  {
   "cell_type": "code",
   "execution_count": 13,
   "metadata": {},
   "outputs": [
    {
     "output_type": "execute_result",
     "data": {
      "text/html": "<img src=\"Img_09.jpg\" height=\"500\"/>",
      "text/plain": [
       "<IPython.core.display.Image object>"
      ]
     },
     "metadata": {},
     "execution_count": 13
    }
   ],
   "source": [
    "all_imgs = np.zeros((N_CLUSTERS + 1, *image.shape), dtype='uint8')\n",
    "new_img = np.zeros(image.shape, dtype='uint8')\n",
    "new_img[:] = 255\n",
    "all_imgs[0] = new_img\n",
    "\n",
    "for i in range(N_CLUSTERS):\n",
    "    new_img = new_img.copy()\n",
    "    new_img[np.where(reshaped_pred == cluster_ids[-(i + 1)])] = colors[cluster_ids[-(i + 1)]]\n",
    "    all_imgs[i + 1] = new_img\n",
    "\n",
    "Image.fromarray(all_imgs[N_CLUSTERS], 'RGB').save(OUTPUT_IMAGE_PATH)\n",
    "display.Image(url = OUTPUT_IMAGE_PATH, height = 500)"
   ]
  },
  {
   "cell_type": "code",
   "execution_count": 14,
   "metadata": {},
   "outputs": [],
   "source": [
    "imgs = []\n",
    "for i in range(N_CLUSTERS + 1):\n",
    "    img = Image.fromarray(all_imgs[i], 'RGB')\n",
    "    imgs.append(img)\n",
    "\n",
    "for i in range(FINAL_FRAME_REPEAT):\n",
    "    imgs.append(imgs[N_CLUSTERS])\n",
    "\n",
    "if BOOMERANG:\n",
    "    for i in range(N_CLUSTERS - 1, 0, -1):\n",
    "        imgs.append(imgs[i])"
   ]
  },
  {
   "cell_type": "code",
   "execution_count": 15,
   "metadata": {},
   "outputs": [],
   "source": [
    "imgs[0].save(\n",
    "    OUTPUT_GIF_PATH, \n",
    "    save_all = True, \n",
    "    append_images = imgs[1:], \n",
    "    optimize = False, \n",
    "    duration = DURATION_PER_FRAME, \n",
    "    loop = LOOP_COUNT\n",
    ")"
   ]
  },
  {
   "cell_type": "code",
   "execution_count": 16,
   "metadata": {},
   "outputs": [
    {
     "output_type": "execute_result",
     "data": {
      "text/html": "<img src=\"Img_09.gif\" height=\"500\"/>",
      "text/plain": [
       "<IPython.core.display.Image object>"
      ]
     },
     "metadata": {},
     "execution_count": 16
    }
   ],
   "source": [
    "display.Image(url = OUTPUT_GIF_PATH, height = 500)"
   ]
  },
  {
   "cell_type": "code",
   "execution_count": null,
   "metadata": {},
   "outputs": [],
   "source": []
  }
 ]
}